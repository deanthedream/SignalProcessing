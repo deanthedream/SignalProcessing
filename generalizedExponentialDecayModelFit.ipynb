{
 "cells": [
  {
   "cell_type": "code",
   "execution_count": 1,
   "id": "cf99a0cf-b13f-4cbf-9977-586b9687013c",
   "metadata": {},
   "outputs": [],
   "source": [
    "import sympy as sp"
   ]
  },
  {
   "cell_type": "code",
   "execution_count": 2,
   "id": "c810fcd3-71cc-4b09-a07d-09d43d944a69",
   "metadata": {},
   "outputs": [],
   "source": [
    "a0,a1,a2,a3,b0,b1,c0,c1,c2,c3,d0,d1 = sp.symbols('a0,a1,a2,a3,b0,b1,c0,c1,c2,c3,d0,d1')"
   ]
  },
  {
   "cell_type": "code",
   "execution_count": 3,
   "id": "9ac28add-816b-4e97-b990-85e1257e2cfd",
   "metadata": {},
   "outputs": [],
   "source": [
    "Amat = sp.Matrix([[a0,a1],[a2,a3]])\n",
    "Bmat = sp.Matrix([[b0],[b1]])\n",
    "Cmat = sp.Matrix([[c0,c1],[c2,c3]])\n",
    "Dmat = sp.Matrix([[d0],[d1]])"
   ]
  },
  {
   "cell_type": "code",
   "execution_count": 4,
   "id": "6bff10c6-7271-4574-b060-b3290556d06d",
   "metadata": {},
   "outputs": [],
   "source": [
    "outMat1 = Amat**-1*Bmat"
   ]
  },
  {
   "cell_type": "code",
   "execution_count": 6,
   "id": "a984e23c-e38d-429e-a409-c0d2095049c8",
   "metadata": {},
   "outputs": [
    {
     "data": {
      "text/latex": [
       "$\\displaystyle \\left[\\begin{matrix}- \\frac{a_{1} b_{1}}{a_{0} a_{3} - a_{1} a_{2}} + \\frac{a_{3} b_{0}}{a_{0} a_{3} - a_{1} a_{2}}\\\\\\frac{a_{0} b_{1}}{a_{0} a_{3} - a_{1} a_{2}} - \\frac{a_{2} b_{0}}{a_{0} a_{3} - a_{1} a_{2}}\\end{matrix}\\right]$"
      ],
      "text/plain": [
       "Matrix([\n",
       "[-a1*b1/(a0*a3 - a1*a2) + a3*b0/(a0*a3 - a1*a2)],\n",
       "[ a0*b1/(a0*a3 - a1*a2) - a2*b0/(a0*a3 - a1*a2)]])"
      ]
     },
     "execution_count": 6,
     "metadata": {},
     "output_type": "execute_result"
    }
   ],
   "source": [
    "outMat1"
   ]
  },
  {
   "cell_type": "code",
   "execution_count": 7,
   "id": "cd1fdce6-7308-496f-ad25-9ec33d9274fb",
   "metadata": {},
   "outputs": [
    {
     "name": "stdout",
     "output_type": "stream",
     "text": [
      "a0*b1/(a0*a3 - a1*a2) - a2*b0/(a0*a3 - a1*a2)\n"
     ]
    }
   ],
   "source": [
    "print(outMat1[1]) #c"
   ]
  },
  {
   "cell_type": "code",
   "execution_count": 5,
   "id": "afa60398-5053-41d7-bc48-4efba44c45d0",
   "metadata": {},
   "outputs": [],
   "source": [
    "outMat2 = Cmat**-1*Dmat"
   ]
  },
  {
   "cell_type": "code",
   "execution_count": 8,
   "id": "43ade340-1db4-457c-b8d7-e20dfc873cfd",
   "metadata": {},
   "outputs": [
    {
     "data": {
      "text/latex": [
       "$\\displaystyle \\left[\\begin{matrix}- \\frac{c_{1} d_{1}}{c_{0} c_{3} - c_{1} c_{2}} + \\frac{c_{3} d_{0}}{c_{0} c_{3} - c_{1} c_{2}}\\\\\\frac{c_{0} d_{1}}{c_{0} c_{3} - c_{1} c_{2}} - \\frac{c_{2} d_{0}}{c_{0} c_{3} - c_{1} c_{2}}\\end{matrix}\\right]$"
      ],
      "text/plain": [
       "Matrix([\n",
       "[-c1*d1/(c0*c3 - c1*c2) + c3*d0/(c0*c3 - c1*c2)],\n",
       "[ c0*d1/(c0*c3 - c1*c2) - c2*d0/(c0*c3 - c1*c2)]])"
      ]
     },
     "execution_count": 8,
     "metadata": {},
     "output_type": "execute_result"
    }
   ],
   "source": [
    "outMat2"
   ]
  },
  {
   "cell_type": "code",
   "execution_count": 9,
   "id": "690d9597-432b-4fec-b7e2-7fb430cdcb07",
   "metadata": {},
   "outputs": [
    {
     "name": "stdout",
     "output_type": "stream",
     "text": [
      "-c1*d1/(c0*c3 - c1*c2) + c3*d0/(c0*c3 - c1*c2)\n"
     ]
    }
   ],
   "source": [
    "print(outMat2[0]) #a"
   ]
  },
  {
   "cell_type": "code",
   "execution_count": 10,
   "id": "aa6a08e0-2297-4902-92bb-b9c09ee91aa8",
   "metadata": {},
   "outputs": [
    {
     "name": "stdout",
     "output_type": "stream",
     "text": [
      "c0*d1/(c0*c3 - c1*c2) - c2*d0/(c0*c3 - c1*c2)\n"
     ]
    }
   ],
   "source": [
    "print(outMat2[1]) #b"
   ]
  },
  {
   "cell_type": "code",
   "execution_count": null,
   "id": "19f0b094-22fd-47a6-bb90-dfe5378e313a",
   "metadata": {},
   "outputs": [],
   "source": []
  }
 ],
 "metadata": {
  "kernelspec": {
   "display_name": "Python 3 (ipykernel)",
   "language": "python",
   "name": "python3"
  },
  "language_info": {
   "codemirror_mode": {
    "name": "ipython",
    "version": 3
   },
   "file_extension": ".py",
   "mimetype": "text/x-python",
   "name": "python",
   "nbconvert_exporter": "python",
   "pygments_lexer": "ipython3",
   "version": "3.10.12"
  }
 },
 "nbformat": 4,
 "nbformat_minor": 5
}
